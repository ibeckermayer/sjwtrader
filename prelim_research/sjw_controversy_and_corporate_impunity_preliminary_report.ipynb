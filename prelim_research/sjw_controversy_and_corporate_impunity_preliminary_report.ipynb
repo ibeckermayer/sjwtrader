{
 "cells": [
  {
   "cell_type": "markdown",
   "metadata": {},
   "source": [
    "# \"Social Justice\" and corporate impunity controversy prelimenary research"
   ]
  },
  {
   "cell_type": "markdown",
   "metadata": {},
   "source": [
    "## Hypothesis: \n",
    "\n",
    "Anybody remotely sane that follows the news will have noticed a recent uptick in the past 4 or so years in leftist insanity regarding issues of so-called \"social justice\". I believe there is now a regular pattern of companies committing some faux pas according to the \"social justice\" left, usually pertaining to some percieved racism or sexism committed by the company or a reprasentative of the company. While it's true that only a small percentage of people actually believe in this far-left conception of \"social justice\", the true believers are for various reasons disproportionately represented in the media, meaning that these \"faux-faux-pas\" are often highlighted disproportionately in the news.\n",
    "\n",
    "To complicate matters, we live in a society run amuck with corporate facism, by which I mean that corporations of certain sizes and industries recieve special government privilege, absolving the individuals responsible for them of legal responsibility for even blatant negligence and incompetence (aka impunity, see Equifax/Google/Facebook/etc). In this case, the justified outrage is often reported in the media as well.\n",
    "\n",
    "My intuition is that these controversies can effect the market in a predictable way: when companies of a certain size or status (this will need a better definition) come under fire for faux or real controversy, the market responds emotionally. Angry/offended traders, or traders who believe many others will be angry/offended, undervalue the stock of the company under fire.\n",
    "\n",
    "In the case of the \"social justice\" controversies, I predict that the company under fire takes a hit for superficial reasons, but their true underlying value is unnaffected. As I said previously, only a small portion of people genuinely believe in the far-left conception of \"social justice\", and I think that we can reasonably assume that an even smaller portion of those will actually change their purchasing behavior in response to said controversy. Therefore, the emotional reaction to the controversy will cause the stock to be undervalued and presents an opportunity for us to buy low and sell high.\n",
    "\n",
    "In the case of corporate impunity controversies, my hypothesis is that the company under fire will again take a hit, this time due to genuine moral failings. However due to rampant corporatism, this short term dip in price will reliably be reversed, since these corporations are largely immune to their criminal or ethical failings and via government privilege will remain as valuable as before. Again this miscalculation by the market to recognize this impunity will be another opportunity to buy low and sell high. \n",
    "\n"
   ]
  },
  {
   "cell_type": "markdown",
   "metadata": {},
   "source": [
    "## Verification\n",
    "\n",
    "Of course everything above is merely my own intuition and speculation. In order to determine whether this hypothesis is actually true, I have gathered data from a variety of recent controversies over the past few years, starting from the articles listed below. I verified the dates and circuimstances of each controversy through further research (those sources will be enumerated later alongside their relevant stock market data). Many thanks to some guy named Geoffery James who apparently has made corporate scandal recaps his forte.\n",
    "\n",
    "* https://www.forbes.com/sites/forbesagencycouncil/2017/05/23/the-biggest-pr-crises-of-2017/\n",
    "* https://www.inc.com/geoffrey-james/top-10-brand-disasters-of-2016.html\n",
    "* https://www.inc.com/geoffrey-james/facebook-pepsi-7-other-brand-disasters-of-2017.html\n",
    "* https://www.inc.com/geoffrey-james/top-10-brand-scandals-of-2015.html\n",
    "* https://www.inc.com/geoffrey-james/top-8-brand-disasters-of-2014.html\n",
    "* https://www.businessinsider.com/biggest-tech-scandals-2017-12\n",
    "* https://www.usatoday.com/story/money/business/2018/02/01/bad-reputation-americas-top-20-most-hated-companies/1058718001/\n",
    "* http://fortune.com/2017/12/31/biggest-corporate-scandals-misconduct-2017-pr/\n",
    "\n",
    "In order to determine if there is any validity to my hypothesis, my strategy is to visualize the relevant stock price data around what I've determined to be the start time of each controversy. To do this, I will create graphs of relevant stock data 3 days, 7 days, 30 days, 90 days, and 180 days either side of the date of the controversy. These timeframes are chosen to give a picture of data over multiple relevant timeframes, and can be easily adjusted later if it's determined that different angles should be looked at."
   ]
  },
  {
   "cell_type": "markdown",
   "metadata": {},
   "source": [
    "## Data\n",
    "\n",
    "The spreadsheet detailing my manual research (saved as CSV) can be be found under [`data/controversy_data.csv`](data/controversy_data.csv) (or click link to download). \n",
    "\n",
    "The stock market data is taken from the [Alpha Vantage](https://www.alphavantage.co/) API, which is a freemium service that appears to get good reviews based on some cursory Google searches.\n",
    "\n",
    "#### Technical notes\n",
    "Each row of the CSV data is converted to a `Controversy` object defined in [`model/Controversy.py`](model/Controversy.py)\n",
    "\n",
    "Unfortunately for the free version of the Alpha Vantage service, they have an API call limit but leave that up for the user to guess at (idk what the strategy is here, maybe they're just trying to piss the user off enough to give up and pay for the premium service.). I've found that if I limit call volume to once per minute, I can safely assume I won't get locked out. In order to prevent my code from taking ~60-90 minutes to compute every time it's run, I've chosen to create a separate script to make all the API calls to gather the stock market, and then serialize the list of `Controversy` objects -- each including their relevant stock data -- into a [`data/controversies.pickle`](data/controversies.pickle). This way, I can simply run this time-expensive script to gather the data once and quicken my iteration cycle for code doing the actual parsing and displaying of the data."
   ]
  },
  {
   "cell_type": "code",
   "execution_count": null,
   "metadata": {},
   "outputs": [],
   "source": []
  }
 ],
 "metadata": {
  "kernelspec": {
   "display_name": "Python 3",
   "language": "python",
   "name": "python3"
  },
  "language_info": {
   "codemirror_mode": {
    "name": "ipython",
    "version": 3
   },
   "file_extension": ".py",
   "mimetype": "text/x-python",
   "name": "python",
   "nbconvert_exporter": "python",
   "pygments_lexer": "ipython3",
   "version": "3.7.0"
  }
 },
 "nbformat": 4,
 "nbformat_minor": 2
}
